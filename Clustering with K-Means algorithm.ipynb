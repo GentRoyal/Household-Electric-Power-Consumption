{
 "cells": [
  {
   "cell_type": "markdown",
   "id": "0a1b961e",
   "metadata": {},
   "source": [
    "# Clustering with K-Means Algorithm"
   ]
  },
  {
   "cell_type": "markdown",
   "id": "f52ab0f0",
   "metadata": {},
   "source": [
    "<font face = \"Verdana\" size = \"+1\"><strong>Individual Household Electric Power Consumption</strong></font><br><br>\n",
    "<font face = \"Verdana\" size = \"+0\"> Households make use of electricity for several reasons ranging from heating, refrigirating, electronics and so on.<br> In this project, we'll make use of the K-Means clustering algorithm to model the relationships between the  electric power consumption in households\n"
   ]
  },
  {
   "cell_type": "markdown",
   "id": "3ae965d7",
   "metadata": {},
   "source": [
    "# Prepare Data"
   ]
  },
  {
   "cell_type": "markdown",
   "id": "aec28c4d",
   "metadata": {},
   "source": [
    "## Import"
   ]
  },
  {
   "cell_type": "markdown",
   "id": "bb4f318e",
   "metadata": {},
   "source": [
    "**Task 1:** Import all necessary libraries"
   ]
  },
  {
   "cell_type": "code",
   "execution_count": 1,
   "id": "1880be77",
   "metadata": {},
   "outputs": [],
   "source": [
    "import pandas as pd\n",
    "import warnings\n",
    "import seaborn as sns\n",
    "import matplotlib.pyplot as plt\n",
    "from sklearn.metrics import silhouette_score\n",
    "from sklearn.cluster import KMeans\n",
    "from sklearn.model_selection import train_test_split\n",
    "from scipy.stats.mstats import trimmed_var\n",
    "from sklearn.preprocessing import StandardScaler\n",
    "from sklearn.pipeline import make_pipeline, Pipeline\n",
    "\n",
    "warnings.filterwarnings(action = \"ignore\")"
   ]
  },
  {
   "cell_type": "markdown",
   "id": "96ddd0d6",
   "metadata": {},
   "source": [
    "**Task 2:** Create a wrangle function to clean the dataset"
   ]
  },
  {
   "cell_type": "code",
   "execution_count": 97,
   "id": "bf92e081",
   "metadata": {},
   "outputs": [
    {
     "data": {
      "text/html": [
       "<div>\n",
       "<style scoped>\n",
       "    .dataframe tbody tr th:only-of-type {\n",
       "        vertical-align: middle;\n",
       "    }\n",
       "\n",
       "    .dataframe tbody tr th {\n",
       "        vertical-align: top;\n",
       "    }\n",
       "\n",
       "    .dataframe thead th {\n",
       "        text-align: right;\n",
       "    }\n",
       "</style>\n",
       "<table border=\"1\" class=\"dataframe\">\n",
       "  <thead>\n",
       "    <tr style=\"text-align: right;\">\n",
       "      <th></th>\n",
       "      <th>Global_active_power</th>\n",
       "      <th>Global_reactive_power</th>\n",
       "      <th>Voltage</th>\n",
       "      <th>Global_intensity</th>\n",
       "      <th>Sub_metering_1</th>\n",
       "      <th>Sub_metering_2</th>\n",
       "      <th>Sub_metering_3</th>\n",
       "    </tr>\n",
       "  </thead>\n",
       "  <tbody>\n",
       "    <tr>\n",
       "      <th>0</th>\n",
       "      <td>1.620</td>\n",
       "      <td>0.070</td>\n",
       "      <td>241.250</td>\n",
       "      <td>6.600</td>\n",
       "      <td>0.000</td>\n",
       "      <td>0.000</td>\n",
       "      <td>18.0</td>\n",
       "    </tr>\n",
       "    <tr>\n",
       "      <th>1</th>\n",
       "      <td>1.626</td>\n",
       "      <td>0.072</td>\n",
       "      <td>241.740</td>\n",
       "      <td>6.600</td>\n",
       "      <td>0.000</td>\n",
       "      <td>0.000</td>\n",
       "      <td>18.0</td>\n",
       "    </tr>\n",
       "    <tr>\n",
       "      <th>2</th>\n",
       "      <td>1.622</td>\n",
       "      <td>0.072</td>\n",
       "      <td>241.520</td>\n",
       "      <td>6.600</td>\n",
       "      <td>0.000</td>\n",
       "      <td>0.000</td>\n",
       "      <td>18.0</td>\n",
       "    </tr>\n",
       "    <tr>\n",
       "      <th>3</th>\n",
       "      <td>1.612</td>\n",
       "      <td>0.070</td>\n",
       "      <td>240.820</td>\n",
       "      <td>6.600</td>\n",
       "      <td>0.000</td>\n",
       "      <td>0.000</td>\n",
       "      <td>18.0</td>\n",
       "    </tr>\n",
       "    <tr>\n",
       "      <th>4</th>\n",
       "      <td>1.612</td>\n",
       "      <td>0.070</td>\n",
       "      <td>240.800</td>\n",
       "      <td>6.600</td>\n",
       "      <td>0.000</td>\n",
       "      <td>0.000</td>\n",
       "      <td>18.0</td>\n",
       "    </tr>\n",
       "  </tbody>\n",
       "</table>\n",
       "</div>"
      ],
      "text/plain": [
       "  Global_active_power Global_reactive_power  Voltage Global_intensity  \\\n",
       "0               1.620                 0.070  241.250            6.600   \n",
       "1               1.626                 0.072  241.740            6.600   \n",
       "2               1.622                 0.072  241.520            6.600   \n",
       "3               1.612                 0.070  240.820            6.600   \n",
       "4               1.612                 0.070  240.800            6.600   \n",
       "\n",
       "  Sub_metering_1 Sub_metering_2  Sub_metering_3  \n",
       "0          0.000          0.000            18.0  \n",
       "1          0.000          0.000            18.0  \n",
       "2          0.000          0.000            18.0  \n",
       "3          0.000          0.000            18.0  \n",
       "4          0.000          0.000            18.0  "
      ]
     },
     "execution_count": 97,
     "metadata": {},
     "output_type": "execute_result"
    }
   ],
   "source": [
    "def wrangle(filepath, separator):\n",
    "    df = pd.read_csv(filepath, sep = separator)\n",
    "    \n",
    "    #Subset date\n",
    "    df['Date'] = pd.DatetimeIndex(df['Date']).year\n",
    "    \n",
    "    #Subset dataframe\n",
    "    df = df[df['Global_active_power'] != \"?\"]\n",
    "    df = df[df[\"Date\"] == 2008]\n",
    "    \n",
    "    #Reset index\n",
    "    df = df.reset_index()\n",
    "    \n",
    "    #Drop the 'redundant' columns\n",
    "    df.drop(columns = [\"Time\", \"Date\", \"index\"], inplace = True)\n",
    "    \n",
    "    #Recast datatype\n",
    "    df[df.select_dtypes(\"object\").columns.to_list()] =df[df.select_dtypes(\"object\").columns.to_list()].astype(float)\n",
    "    \n",
    "    return df\n",
    "    \n",
    "df = wrangle(\"household_power_consumption.txt\", ';')\n",
    "df.head()"
   ]
  },
  {
   "cell_type": "markdown",
   "id": "3b1732c8",
   "metadata": {},
   "source": [
    "**Task 3:** Inspect dataframe"
   ]
  },
  {
   "cell_type": "code",
   "execution_count": 3,
   "id": "68dc46a8",
   "metadata": {},
   "outputs": [
    {
     "name": "stdout",
     "output_type": "stream",
     "text": [
      "<class 'pandas.core.frame.DataFrame'>\n",
      "RangeIndex: 526905 entries, 0 to 526904\n",
      "Data columns (total 7 columns):\n",
      " #   Column                 Non-Null Count   Dtype  \n",
      "---  ------                 --------------   -----  \n",
      " 0   Global_active_power    526905 non-null  float64\n",
      " 1   Global_reactive_power  526905 non-null  float64\n",
      " 2   Voltage                526905 non-null  float64\n",
      " 3   Global_intensity       526905 non-null  float64\n",
      " 4   Sub_metering_1         526905 non-null  float64\n",
      " 5   Sub_metering_2         526905 non-null  float64\n",
      " 6   Sub_metering_3         526905 non-null  float64\n",
      "dtypes: float64(7)\n",
      "memory usage: 28.1 MB\n"
     ]
    }
   ],
   "source": [
    "df.info()"
   ]
  },
  {
   "cell_type": "markdown",
   "id": "c1e069af",
   "metadata": {},
   "source": [
    "**Task 4:** Check presence of unwanted character(s)"
   ]
  },
  {
   "cell_type": "code",
   "execution_count": 96,
   "id": "4973e435",
   "metadata": {},
   "outputs": [
    {
     "data": {
      "text/plain": [
       "Global_reactive_power  Global_active_power  Voltage  Global_intensity  Sub_metering_1  Sub_metering_2\n",
       "?                      ?                    ?        ?                 ?               ?                 135\n",
       "dtype: int64"
      ]
     },
     "execution_count": 96,
     "metadata": {},
     "output_type": "execute_result"
    }
   ],
   "source": [
    "(df[[\"Global_reactive_power\",\"Global_active_power\",\"Voltage\",\"Global_intensity\",\"Sub_metering_1\",\"Sub_metering_2\"]][df['Global_active_power'] == \"?\"]).value_counts()"
   ]
  },
  {
   "cell_type": "markdown",
   "id": "73b431a8",
   "metadata": {},
   "source": [
    "**Task 5:** Recast datatype"
   ]
  },
  {
   "cell_type": "code",
   "execution_count": 94,
   "id": "3ea094c2",
   "metadata": {},
   "outputs": [
    {
     "data": {
      "text/html": [
       "<div>\n",
       "<style scoped>\n",
       "    .dataframe tbody tr th:only-of-type {\n",
       "        vertical-align: middle;\n",
       "    }\n",
       "\n",
       "    .dataframe tbody tr th {\n",
       "        vertical-align: top;\n",
       "    }\n",
       "\n",
       "    .dataframe thead th {\n",
       "        text-align: right;\n",
       "    }\n",
       "</style>\n",
       "<table border=\"1\" class=\"dataframe\">\n",
       "  <thead>\n",
       "    <tr style=\"text-align: right;\">\n",
       "      <th></th>\n",
       "      <th>Global_active_power</th>\n",
       "      <th>Global_reactive_power</th>\n",
       "      <th>Voltage</th>\n",
       "      <th>Global_intensity</th>\n",
       "      <th>Sub_metering_1</th>\n",
       "      <th>Sub_metering_2</th>\n",
       "    </tr>\n",
       "  </thead>\n",
       "  <tbody>\n",
       "    <tr>\n",
       "      <th>0</th>\n",
       "      <td>1.620</td>\n",
       "      <td>0.070</td>\n",
       "      <td>241.25</td>\n",
       "      <td>6.6</td>\n",
       "      <td>0.0</td>\n",
       "      <td>0.0</td>\n",
       "    </tr>\n",
       "    <tr>\n",
       "      <th>1</th>\n",
       "      <td>1.626</td>\n",
       "      <td>0.072</td>\n",
       "      <td>241.74</td>\n",
       "      <td>6.6</td>\n",
       "      <td>0.0</td>\n",
       "      <td>0.0</td>\n",
       "    </tr>\n",
       "    <tr>\n",
       "      <th>2</th>\n",
       "      <td>1.622</td>\n",
       "      <td>0.072</td>\n",
       "      <td>241.52</td>\n",
       "      <td>6.6</td>\n",
       "      <td>0.0</td>\n",
       "      <td>0.0</td>\n",
       "    </tr>\n",
       "    <tr>\n",
       "      <th>3</th>\n",
       "      <td>1.612</td>\n",
       "      <td>0.070</td>\n",
       "      <td>240.82</td>\n",
       "      <td>6.6</td>\n",
       "      <td>0.0</td>\n",
       "      <td>0.0</td>\n",
       "    </tr>\n",
       "    <tr>\n",
       "      <th>4</th>\n",
       "      <td>1.612</td>\n",
       "      <td>0.070</td>\n",
       "      <td>240.80</td>\n",
       "      <td>6.6</td>\n",
       "      <td>0.0</td>\n",
       "      <td>0.0</td>\n",
       "    </tr>\n",
       "    <tr>\n",
       "      <th>...</th>\n",
       "      <td>...</td>\n",
       "      <td>...</td>\n",
       "      <td>...</td>\n",
       "      <td>...</td>\n",
       "      <td>...</td>\n",
       "      <td>...</td>\n",
       "    </tr>\n",
       "    <tr>\n",
       "      <th>526900</th>\n",
       "      <td>0.484</td>\n",
       "      <td>0.064</td>\n",
       "      <td>247.69</td>\n",
       "      <td>2.2</td>\n",
       "      <td>0.0</td>\n",
       "      <td>0.0</td>\n",
       "    </tr>\n",
       "    <tr>\n",
       "      <th>526901</th>\n",
       "      <td>0.482</td>\n",
       "      <td>0.064</td>\n",
       "      <td>247.35</td>\n",
       "      <td>2.2</td>\n",
       "      <td>0.0</td>\n",
       "      <td>0.0</td>\n",
       "    </tr>\n",
       "    <tr>\n",
       "      <th>526902</th>\n",
       "      <td>0.482</td>\n",
       "      <td>0.064</td>\n",
       "      <td>246.99</td>\n",
       "      <td>2.2</td>\n",
       "      <td>0.0</td>\n",
       "      <td>0.0</td>\n",
       "    </tr>\n",
       "    <tr>\n",
       "      <th>526903</th>\n",
       "      <td>0.480</td>\n",
       "      <td>0.064</td>\n",
       "      <td>246.52</td>\n",
       "      <td>2.2</td>\n",
       "      <td>0.0</td>\n",
       "      <td>0.0</td>\n",
       "    </tr>\n",
       "    <tr>\n",
       "      <th>526904</th>\n",
       "      <td>0.482</td>\n",
       "      <td>0.062</td>\n",
       "      <td>246.97</td>\n",
       "      <td>2.2</td>\n",
       "      <td>0.0</td>\n",
       "      <td>0.0</td>\n",
       "    </tr>\n",
       "  </tbody>\n",
       "</table>\n",
       "<p>526905 rows × 6 columns</p>\n",
       "</div>"
      ],
      "text/plain": [
       "        Global_active_power  Global_reactive_power  Voltage  Global_intensity  \\\n",
       "0                     1.620                  0.070   241.25               6.6   \n",
       "1                     1.626                  0.072   241.74               6.6   \n",
       "2                     1.622                  0.072   241.52               6.6   \n",
       "3                     1.612                  0.070   240.82               6.6   \n",
       "4                     1.612                  0.070   240.80               6.6   \n",
       "...                     ...                    ...      ...               ...   \n",
       "526900                0.484                  0.064   247.69               2.2   \n",
       "526901                0.482                  0.064   247.35               2.2   \n",
       "526902                0.482                  0.064   246.99               2.2   \n",
       "526903                0.480                  0.064   246.52               2.2   \n",
       "526904                0.482                  0.062   246.97               2.2   \n",
       "\n",
       "        Sub_metering_1  Sub_metering_2  \n",
       "0                  0.0             0.0  \n",
       "1                  0.0             0.0  \n",
       "2                  0.0             0.0  \n",
       "3                  0.0             0.0  \n",
       "4                  0.0             0.0  \n",
       "...                ...             ...  \n",
       "526900             0.0             0.0  \n",
       "526901             0.0             0.0  \n",
       "526902             0.0             0.0  \n",
       "526903             0.0             0.0  \n",
       "526904             0.0             0.0  \n",
       "\n",
       "[526905 rows x 6 columns]"
      ]
     },
     "execution_count": 94,
     "metadata": {},
     "output_type": "execute_result"
    }
   ],
   "source": [
    "df[df.select_dtypes(\"object\").columns.to_list()].astype(float)"
   ]
  },
  {
   "cell_type": "markdown",
   "id": "66fcdf1c",
   "metadata": {},
   "source": [
    "## Explore"
   ]
  },
  {
   "cell_type": "markdown",
   "id": "311cea7a",
   "metadata": {},
   "source": [
    "**Task 6:** Calculate the variance of the features in the dataset"
   ]
  },
  {
   "cell_type": "code",
   "execution_count": 6,
   "id": "5e6ee463",
   "metadata": {},
   "outputs": [
    {
     "data": {
      "text/plain": [
       "Global_active_power       1.135062\n",
       "Global_reactive_power     0.011998\n",
       "Voltage                   8.239426\n",
       "Global_intensity         20.126134\n",
       "Sub_metering_1           37.706184\n",
       "Sub_metering_2           33.631157\n",
       "Sub_metering_3           67.677487\n",
       "dtype: float64"
      ]
     },
     "execution_count": 6,
     "metadata": {},
     "output_type": "execute_result"
    }
   ],
   "source": [
    "df_var = df.var()\n",
    "df_var"
   ]
  },
  {
   "cell_type": "markdown",
   "id": "0d42b3a8",
   "metadata": {},
   "source": [
    "**Task 7:** Visualize the variance"
   ]
  },
  {
   "cell_type": "code",
   "execution_count": 102,
   "id": "340ed159",
   "metadata": {},
   "outputs": [
    {
     "data": {
      "image/png": "[encoded data removed]",
      "text/plain": [
       "<Figure size 640x480 with 1 Axes>"
      ]
     },
     "metadata": {},
     "output_type": "display_data"
    }
   ],
   "source": [
    "df_var.sort_values().tail(10).plot(kind = \"barh\")\n",
    "plt.title(\"High variance features\");"
   ]
  },
  {
   "cell_type": "markdown",
   "id": "22e3dea2",
   "metadata": {},
   "source": [
    "**Task 8:** Check the presence of outliers"
   ]
  },
  {
   "cell_type": "code",
   "execution_count": 8,
   "id": "10c1b077",
   "metadata": {},
   "outputs": [
    {
     "data": {
      "image/png": "[encoded data removed]",
      "text/plain": [
       "<Figure size 640x480 with 1 Axes>"
      ]
     },
     "metadata": {},
     "output_type": "display_data"
    }
   ],
   "source": [
    "plt.hist(df[\"Sub_metering_1\"])\n",
    "plt.title(\"Checking outliers\")\n",
    "plt.xlabel(\"Sub-metering readings\")\n",
    "plt.ylabel(\"Frequency [millions]\");"
   ]
  },
  {
   "cell_type": "markdown",
   "id": "44969c3d",
   "metadata": {},
   "source": [
    "**Comment:** The presence of outliers would affect the measures of variance"
   ]
  },
  {
   "cell_type": "markdown",
   "id": "24f0b908",
   "metadata": {},
   "source": [
    "**Task 9:** Calculate the trimmed variance"
   ]
  },
  {
   "cell_type": "code",
   "execution_count": 9,
   "id": "50f3e021",
   "metadata": {},
   "outputs": [
    {
     "data": {
      "text/plain": [
       "Sub_metering_3           56.678934\n",
       "Global_intensity          6.854951\n",
       "Voltage                   3.293423\n",
       "Global_active_power       0.402248\n",
       "Sub_metering_2            0.198340\n",
       "Global_reactive_power     0.005299\n",
       "Sub_metering_1            0.000000\n",
       "dtype: float64"
      ]
     },
     "execution_count": 9,
     "metadata": {},
     "output_type": "execute_result"
    }
   ],
   "source": [
    "df_trimmed_var = df.apply(trimmed_var, limits = (0.1, 0.1))\n",
    "df_trimmed_var.sort_values(ascending = False)"
   ]
  },
  {
   "cell_type": "markdown",
   "id": "95c0b21e",
   "metadata": {},
   "source": [
    "**Task 10:** Visualize the trimmed variance"
   ]
  },
  {
   "cell_type": "code",
   "execution_count": 101,
   "id": "f97241de",
   "metadata": {},
   "outputs": [
    {
     "data": {
      "image/png": "[encoded data removed]",
      "text/plain": [
       "<Figure size 640x480 with 1 Axes>"
      ]
     },
     "metadata": {},
     "output_type": "display_data"
    }
   ],
   "source": [
    "df_trimmed_var.sort_values(ascending = True).plot(kind = \"barh\")\n",
    "plt.title(\"Trimmed Variance\");"
   ]
  },
  {
   "cell_type": "markdown",
   "id": "9808cb1c",
   "metadata": {},
   "source": [
    "**Task 11:** Get the top two features with the highest variance"
   ]
  },
  {
   "cell_type": "code",
   "execution_count": 58,
   "id": "fc348509",
   "metadata": {},
   "outputs": [
    {
     "data": {
      "text/plain": [
       "['Sub_metering_3', 'Global_intensity']"
      ]
     },
     "execution_count": 58,
     "metadata": {},
     "output_type": "execute_result"
    }
   ],
   "source": [
    "high_cor = df_trimmed_var.tail().sort_values(ascending = False).index.to_list()[:2]\n",
    "high_cor"
   ]
  },
  {
   "cell_type": "markdown",
   "id": "5ec46c59",
   "metadata": {},
   "source": [
    "## Explore"
   ]
  },
  {
   "cell_type": "markdown",
   "id": "a1010353",
   "metadata": {},
   "source": [
    "**Task 12:** Create a split"
   ]
  },
  {
   "cell_type": "code",
   "execution_count": 59,
   "id": "029de562",
   "metadata": {},
   "outputs": [],
   "source": [
    "X = df[high_cor]"
   ]
  },
  {
   "cell_type": "markdown",
   "id": "0722b78d",
   "metadata": {},
   "source": [
    "**Task 13:** Create a random split of the initial spliit"
   ]
  },
  {
   "cell_type": "code",
   "execution_count": 60,
   "id": "94eff3b6",
   "metadata": {},
   "outputs": [
    {
     "name": "stdout",
     "output_type": "stream",
     "text": [
      "<class 'pandas.core.frame.DataFrame'>\n",
      "Int64Index: 15807 entries, 394808 to 100879\n",
      "Data columns (total 2 columns):\n",
      " #   Column            Non-Null Count  Dtype  \n",
      "---  ------            --------------  -----  \n",
      " 0   Sub_metering_3    15807 non-null  float64\n",
      " 1   Global_intensity  15807 non-null  float64\n",
      "dtypes: float64(2)\n",
      "memory usage: 370.5 KB\n"
     ]
    }
   ],
   "source": [
    "X, X_discarded = train_test_split(\n",
    "    X, test_size = 0.97, random_state = 2\n",
    ")\n",
    "X.info()"
   ]
  },
  {
   "cell_type": "markdown",
   "id": "d65149ec",
   "metadata": {},
   "source": [
    "**Comment :** The task 13 might not be needed when running this notebook on a machine with higher configuration"
   ]
  },
  {
   "cell_type": "markdown",
   "id": "6ea83ee9",
   "metadata": {},
   "source": [
    "# Build Model"
   ]
  },
  {
   "cell_type": "markdown",
   "id": "17f3ef4a",
   "metadata": {},
   "source": [
    "# Iterate"
   ]
  },
  {
   "cell_type": "markdown",
   "id": "4651f54c",
   "metadata": {},
   "source": [
    "**Task 14 :** Build K-Means model for clusters 2 to 10"
   ]
  },
  {
   "cell_type": "code",
   "execution_count": 61,
   "id": "0995e709",
   "metadata": {},
   "outputs": [],
   "source": [
    "n_clusters = range(2, 10)\n",
    "inertia = []\n",
    "ss_score = []\n",
    "for n in n_clusters:\n",
    "    model = make_pipeline(\n",
    "    StandardScaler(),\n",
    "    KMeans(n_clusters = n, random_state = 15)\n",
    "    )\n",
    "    model.fit(X)\n",
    "    inertia.append(model.named_steps[\"kmeans\"].inertia_)\n",
    "    ss_score.append(silhouette_score(X, model.named_steps[\"kmeans\"].labels_))"
   ]
  },
  {
   "cell_type": "markdown",
   "id": "944f5483",
   "metadata": {},
   "source": [
    "**Task 15 :** Visualize the clusters and the inertia "
   ]
  },
  {
   "cell_type": "code",
   "execution_count": 75,
   "id": "5b50697c",
   "metadata": {},
   "outputs": [
    {
     "data": {
      "image/png": "[encoded data removed]",
      "text/plain": [
       "<Figure size 640x480 with 1 Axes>"
      ]
     },
     "metadata": {},
     "output_type": "display_data"
    }
   ],
   "source": [
    "plt.plot(n_clusters, inertia)\n",
    "plt.xlabel(\"Clusters\")\n",
    "plt.ylabel(\"Inertia\")\n",
    "plt.title(\"Clusters vs Inertia\");"
   ]
  },
  {
   "cell_type": "markdown",
   "id": "334664c3",
   "metadata": {},
   "source": [
    "**Task 16 :** Visualize the clusters and the silhouette scoress"
   ]
  },
  {
   "cell_type": "code",
   "execution_count": 104,
   "id": "dd24b2ee",
   "metadata": {},
   "outputs": [
    {
     "data": {
      "image/png": "[encoded data removed]",
      "text/plain": [
       "<Figure size 640x480 with 1 Axes>"
      ]
     },
     "metadata": {},
     "output_type": "display_data"
    }
   ],
   "source": [
    "plt.plot(n_clusters, ss_score)\n",
    "plt.xlabel(\"Clusters\")\n",
    "plt.ylabel(\"Silhouette scores\")\n",
    "plt.title(\"Clusters vs Silhouette scores\");"
   ]
  },
  {
   "cell_type": "markdown",
   "id": "00774118",
   "metadata": {},
   "source": [
    "**Comment :** The plots indicate that the best number of cluster is 4"
   ]
  },
  {
   "cell_type": "markdown",
   "id": "7564cf10",
   "metadata": {},
   "source": [
    "**Task 17 :** Rebuild the model with the best parameters"
   ]
  },
  {
   "cell_type": "code",
   "execution_count": 79,
   "id": "f242b8a1",
   "metadata": {},
   "outputs": [
    {
     "data": {
      "text/html": [
       "<style>#sk-container-id-6 {color: black;background-color: white;}#sk-container-id-6 pre{padding: 0;}#sk-container-id-6 div.sk-toggleable {background-color: white;}#sk-container-id-6 label.sk-toggleable__label {cursor: pointer;display: block;width: 100%;margin-bottom: 0;padding: 0.3em;box-sizing: border-box;text-align: center;}#sk-container-id-6 label.sk-toggleable__label-arrow:before {content: \"▸\";float: left;margin-right: 0.25em;color: #696969;}#sk-container-id-6 label.sk-toggleable__label-arrow:hover:before {color: black;}#sk-container-id-6 div.sk-estimator:hover label.sk-toggleable__label-arrow:before {color: black;}#sk-container-id-6 div.sk-toggleable__content {max-height: 0;max-width: 0;overflow: hidden;text-align: left;background-color: #f0f8ff;}#sk-container-id-6 div.sk-toggleable__content pre {margin: 0.2em;color: black;border-radius: 0.25em;background-color: #f0f8ff;}#sk-container-id-6 input.sk-toggleable__control:checked~div.sk-toggleable__content {max-height: 200px;max-width: 100%;overflow: auto;}#sk-container-id-6 input.sk-toggleable__control:checked~label.sk-toggleable__label-arrow:before {content: \"▾\";}#sk-container-id-6 div.sk-estimator input.sk-toggleable__control:checked~label.sk-toggleable__label {background-color: #d4ebff;}#sk-container-id-6 div.sk-label input.sk-toggleable__control:checked~label.sk-toggleable__label {background-color: #d4ebff;}#sk-container-id-6 input.sk-hidden--visually {border: 0;clip: rect(1px 1px 1px 1px);clip: rect(1px, 1px, 1px, 1px);height: 1px;margin: -1px;overflow: hidden;padding: 0;position: absolute;width: 1px;}#sk-container-id-6 div.sk-estimator {font-family: monospace;background-color: #f0f8ff;border: 1px dotted black;border-radius: 0.25em;box-sizing: border-box;margin-bottom: 0.5em;}#sk-container-id-6 div.sk-estimator:hover {background-color: #d4ebff;}#sk-container-id-6 div.sk-parallel-item::after {content: \"\";width: 100%;border-bottom: 1px solid gray;flex-grow: 1;}#sk-container-id-6 div.sk-label:hover label.sk-toggleable__label {background-color: #d4ebff;}#sk-container-id-6 div.sk-serial::before {content: \"\";position: absolute;border-left: 1px solid gray;box-sizing: border-box;top: 0;bottom: 0;left: 50%;z-index: 0;}#sk-container-id-6 div.sk-serial {display: flex;flex-direction: column;align-items: center;background-color: white;padding-right: 0.2em;padding-left: 0.2em;position: relative;}#sk-container-id-6 div.sk-item {position: relative;z-index: 1;}#sk-container-id-6 div.sk-parallel {display: flex;align-items: stretch;justify-content: center;background-color: white;position: relative;}#sk-container-id-6 div.sk-item::before, #sk-container-id-6 div.sk-parallel-item::before {content: \"\";position: absolute;border-left: 1px solid gray;box-sizing: border-box;top: 0;bottom: 0;left: 50%;z-index: -1;}#sk-container-id-6 div.sk-parallel-item {display: flex;flex-direction: column;z-index: 1;position: relative;background-color: white;}#sk-container-id-6 div.sk-parallel-item:first-child::after {align-self: flex-end;width: 50%;}#sk-container-id-6 div.sk-parallel-item:last-child::after {align-self: flex-start;width: 50%;}#sk-container-id-6 div.sk-parallel-item:only-child::after {width: 0;}#sk-container-id-6 div.sk-dashed-wrapped {border: 1px dashed gray;margin: 0 0.4em 0.5em 0.4em;box-sizing: border-box;padding-bottom: 0.4em;background-color: white;}#sk-container-id-6 div.sk-label label {font-family: monospace;font-weight: bold;display: inline-block;line-height: 1.2em;}#sk-container-id-6 div.sk-label-container {text-align: center;}#sk-container-id-6 div.sk-container {/* jupyter's `normalize.less` sets `[hidden] { display: none; }` but bootstrap.min.css set `[hidden] { display: none !important; }` so we also need the `!important` here to be able to override the default hidden behavior on the sphinx rendered scikit-learn.org. See: https://github.com/scikit-learn/scikit-learn/issues/21755 */display: inline-block !important;position: relative;}#sk-container-id-6 div.sk-text-repr-fallback {display: none;}</style><div id=\"sk-container-id-6\" class=\"sk-top-container\"><div class=\"sk-text-repr-fallback\"><pre>Pipeline(steps=[(&#x27;standardscaler&#x27;, StandardScaler()),\n",
       "                (&#x27;kmeans&#x27;, KMeans(n_clusters=4, random_state=15))])</pre><b>In a Jupyter environment, please rerun this cell to show the HTML representation or trust the notebook. <br />On GitHub, the HTML representation is unable to render, please try loading this page with nbviewer.org.</b></div><div class=\"sk-container\" hidden><div class=\"sk-item sk-dashed-wrapped\"><div class=\"sk-label-container\"><div class=\"sk-label sk-toggleable\"><input class=\"sk-toggleable__control sk-hidden--visually\" id=\"sk-estimator-id-16\" type=\"checkbox\" ><label for=\"sk-estimator-id-16\" class=\"sk-toggleable__label sk-toggleable__label-arrow\">Pipeline</label><div class=\"sk-toggleable__content\"><pre>Pipeline(steps=[(&#x27;standardscaler&#x27;, StandardScaler()),\n",
       "                (&#x27;kmeans&#x27;, KMeans(n_clusters=4, random_state=15))])</pre></div></div></div><div class=\"sk-serial\"><div class=\"sk-item\"><div class=\"sk-estimator sk-toggleable\"><input class=\"sk-toggleable__control sk-hidden--visually\" id=\"sk-estimator-id-17\" type=\"checkbox\" ><label for=\"sk-estimator-id-17\" class=\"sk-toggleable__label sk-toggleable__label-arrow\">StandardScaler</label><div class=\"sk-toggleable__content\"><pre>StandardScaler()</pre></div></div></div><div class=\"sk-item\"><div class=\"sk-estimator sk-toggleable\"><input class=\"sk-toggleable__control sk-hidden--visually\" id=\"sk-estimator-id-18\" type=\"checkbox\" ><label for=\"sk-estimator-id-18\" class=\"sk-toggleable__label sk-toggleable__label-arrow\">KMeans</label><div class=\"sk-toggleable__content\"><pre>KMeans(n_clusters=4, random_state=15)</pre></div></div></div></div></div></div></div>"
      ],
      "text/plain": [
       "Pipeline(steps=[('standardscaler', StandardScaler()),\n",
       "                ('kmeans', KMeans(n_clusters=4, random_state=15))])"
      ]
     },
     "execution_count": 79,
     "metadata": {},
     "output_type": "execute_result"
    }
   ],
   "source": [
    "model = make_pipeline(\n",
    "    StandardScaler(),\n",
    "    KMeans(n_clusters = 4, random_state = 15)\n",
    "    )\n",
    "model.fit(X)"
   ]
  },
  {
   "cell_type": "markdown",
   "id": "b8e8896e",
   "metadata": {},
   "source": [
    "# Communicate"
   ]
  },
  {
   "cell_type": "markdown",
   "id": "6f07e8e9",
   "metadata": {},
   "source": [
    "**Task 18 :** Print model labels"
   ]
  },
  {
   "cell_type": "code",
   "execution_count": 80,
   "id": "c388b54e",
   "metadata": {},
   "outputs": [
    {
     "name": "stdout",
     "output_type": "stream",
     "text": [
      "Labels:  [3 0 2 ... 3 3 3]\n"
     ]
    }
   ],
   "source": [
    "print(\"Labels: \", model.named_steps[\"kmeans\"].labels_)"
   ]
  },
  {
   "cell_type": "markdown",
   "id": "20d6c593",
   "metadata": {},
   "source": [
    "**Task 19 :** Print model inertia"
   ]
  },
  {
   "cell_type": "code",
   "execution_count": 86,
   "id": "35d6a882",
   "metadata": {},
   "outputs": [
    {
     "name": "stdout",
     "output_type": "stream",
     "text": [
      "Inertia:  3390.17\n"
     ]
    }
   ],
   "source": [
    "print(\"Inertia: \",round(model.named_steps[\"kmeans\"].inertia_, 2))"
   ]
  },
  {
   "cell_type": "markdown",
   "id": "585c7ec5",
   "metadata": {},
   "source": [
    "**Task 20 :** Print model silhouette score"
   ]
  },
  {
   "cell_type": "code",
   "execution_count": 84,
   "id": "58158e5b",
   "metadata": {},
   "outputs": [
    {
     "name": "stdout",
     "output_type": "stream",
     "text": [
      "Silhouette Score:  0.71\n"
     ]
    }
   ],
   "source": [
    "print(\"Silhouette Score: \",round(silhouette_score(X, model.named_steps[\"kmeans\"].labels_), 2))"
   ]
  },
  {
   "cell_type": "markdown",
   "id": "98f50f85",
   "metadata": {},
   "source": [
    "**Task 20 :** Generate the centroids"
   ]
  },
  {
   "cell_type": "code",
   "execution_count": 88,
   "id": "d39529be",
   "metadata": {},
   "outputs": [
    {
     "data": {
      "text/plain": [
       "array([[-0.69271918,  0.84351763],\n",
       "       [ 1.2627727 ,  2.68074593],\n",
       "       [ 1.4239314 ,  0.50358202],\n",
       "       [-0.67852946, -0.64504474]])"
      ]
     },
     "execution_count": 88,
     "metadata": {},
     "output_type": "execute_result"
    }
   ],
   "source": [
    "centroid = model.named_steps[\"kmeans\"].cluster_centers_\n",
    "centroid"
   ]
  },
  {
   "cell_type": "markdown",
   "id": "a994f9bc",
   "metadata": {},
   "source": [
    "**Task 21:** Create a DataFrame that contains the mean values of the features in the feature columns for each of the clusters in the final model."
   ]
  },
  {
   "cell_type": "code",
   "execution_count": 89,
   "id": "d86ef4fc",
   "metadata": {},
   "outputs": [
    {
     "data": {
      "text/html": [
       "<div>\n",
       "<style scoped>\n",
       "    .dataframe tbody tr th:only-of-type {\n",
       "        vertical-align: middle;\n",
       "    }\n",
       "\n",
       "    .dataframe tbody tr th {\n",
       "        vertical-align: top;\n",
       "    }\n",
       "\n",
       "    .dataframe thead th {\n",
       "        text-align: right;\n",
       "    }\n",
       "</style>\n",
       "<table border=\"1\" class=\"dataframe\">\n",
       "  <thead>\n",
       "    <tr style=\"text-align: right;\">\n",
       "      <th></th>\n",
       "      <th>Sub_metering_3</th>\n",
       "      <th>Global_intensity</th>\n",
       "    </tr>\n",
       "  </thead>\n",
       "  <tbody>\n",
       "    <tr>\n",
       "      <th>0</th>\n",
       "      <td>0.338279</td>\n",
       "      <td>8.332789</td>\n",
       "    </tr>\n",
       "    <tr>\n",
       "      <th>1</th>\n",
       "      <td>16.485352</td>\n",
       "      <td>16.568945</td>\n",
       "    </tr>\n",
       "    <tr>\n",
       "      <th>2</th>\n",
       "      <td>17.816086</td>\n",
       "      <td>6.808884</td>\n",
       "    </tr>\n",
       "    <tr>\n",
       "      <th>3</th>\n",
       "      <td>0.455448</td>\n",
       "      <td>1.659676</td>\n",
       "    </tr>\n",
       "  </tbody>\n",
       "</table>\n",
       "</div>"
      ],
      "text/plain": [
       "   Sub_metering_3  Global_intensity\n",
       "0        0.338279          8.332789\n",
       "1       16.485352         16.568945\n",
       "2       17.816086          6.808884\n",
       "3        0.455448          1.659676"
      ]
     },
     "execution_count": 89,
     "metadata": {},
     "output_type": "execute_result"
    }
   ],
   "source": [
    "X_groupby= X.groupby(model.named_steps[\"kmeans\"].labels_).mean()\n",
    "X_groupby"
   ]
  },
  {
   "cell_type": "markdown",
   "id": "6d1192a6",
   "metadata": {},
   "source": [
    "**Task 22:** Visualize the dataframe on a barchart"
   ]
  },
  {
   "cell_type": "code",
   "execution_count": 105,
   "id": "4e0db72a",
   "metadata": {},
   "outputs": [
    {
     "data": {
      "image/png": "[encoded data removed]",
      "text/plain": [
       "<Figure size 640x480 with 1 Axes>"
      ]
     },
     "metadata": {},
     "output_type": "display_data"
    }
   ],
   "source": [
    "X_groupby.plot(kind = \"bar\")\n",
    "plt.xlabel(\"Clusters\")\n",
    "plt.title(\"Average Sub metering and global intensity by cluster\");"
   ]
  },
  {
   "cell_type": "markdown",
   "id": "d111ac34",
   "metadata": {},
   "source": [
    "**Task 23:** Visualize the proportion of sub metering to global intensity"
   ]
  },
  {
   "cell_type": "code",
   "execution_count": 99,
   "id": "7d5817c6",
   "metadata": {},
   "outputs": [
    {
     "data": {
      "image/png": "[encoded data removed]",
      "text/plain": [
       "<Figure size 640x480 with 1 Axes>"
      ]
     },
     "metadata": {},
     "output_type": "display_data"
    }
   ],
   "source": [
    "(X_groupby[\"Sub_metering_3\"]/X_groupby[\"Global_intensity\"]).plot(kind = \"bar\")\n",
    "plt.xlabel(\"Clusters\")\n",
    "plt.ylabel(\"Proportion\")\n",
    "plt.title(\"Proportion of Sub metering and Global intensity\");"
   ]
  },
  {
   "cell_type": "markdown",
   "id": "67d594c7",
   "metadata": {},
   "source": [
    "# Findings"
   ]
  },
  {
   "cell_type": "markdown",
   "id": "43a72339",
   "metadata": {},
   "source": [
    "<font face = \"Verdana\">\n",
    "<p>\n",
    "The finding from the exploration and the model are :<br>\n",
    "<ul>\n",
    "<li>The households in clusters 0 and 3 have the least number of sub meters</li>\n",
    "<li>The households in cluster 2, (closely followed by households in clusters 1) have the highest number of sub meters</li>\n",
    "<li>The households in cluster 2 has the highest number proportion of sub meters to global intensity</li>\n"
   ]
  },
  {
   "cell_type": "code",
   "execution_count": null,
   "id": "d7520cb0",
   "metadata": {},
   "outputs": [],
   "source": []
  }
 ],
 "metadata": {
  "kernelspec": {
   "display_name": "Python 3 (ipykernel)",
   "language": "python",
   "name": "python3"
  },
  "language_info": {
   "codemirror_mode": {
    "name": "ipython",
    "version": 3
   },
   "file_extension": ".py",
   "mimetype": "text/x-python",
   "name": "python",
   "nbconvert_exporter": "python",
   "pygments_lexer": "ipython3",
   "version": "3.11.0"
  }
 },
 "nbformat": 4,
 "nbformat_minor": 5
}
